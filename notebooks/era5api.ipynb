{
 "cells": [
  {
   "cell_type": "code",
   "execution_count": null,
   "metadata": {},
   "outputs": [],
   "source": [
    "import cdsapi\n",
    "import xarray as xr\n",
    "import cartopy.crs as ccrs\n",
    "from matplotlib import pyplot as plt\n",
    "import nexradaws\n",
    "import os\n",
    "import sys\n",
    "%matplotlib inline"
   ]
  },
  {
   "cell_type": "code",
   "execution_count": null,
   "metadata": {},
   "outputs": [],
   "source": [
    "c = cdsapi.Client()"
   ]
  },
  {
   "cell_type": "code",
   "execution_count": null,
   "metadata": {},
   "outputs": [],
   "source": [
    "def make_a_request(year, month, day):\n",
    "    request ={'product_type':'reanalysis',\n",
    "            'format':'netcdf',\n",
    "            'variable':[\n",
    "                'divergence','fraction_of_cloud_cover','geopotential',\n",
    "                'potential_vorticity','relative_humidity',\n",
    "                'specific_cloud_ice_water_content','specific_cloud_liquid_water_content','specific_humidity',\n",
    "                'specific_rain_water_content','specific_snow_water_content','temperature',\n",
    "                'u_component_of_wind','v_component_of_wind','vertical_velocity',\n",
    "                'vorticity'\n",
    "            ],\n",
    "            'pressure_level':[\n",
    "                '1','2','3',\n",
    "                '5','7','10',\n",
    "                '20','30','50',\n",
    "                '70','100','125',\n",
    "                '150','175','200',\n",
    "                '225','250','300',\n",
    "                '350','400','450',\n",
    "                '500','550','600',\n",
    "                '650','700','750',\n",
    "                '775','800','825',\n",
    "                '850','875','900',\n",
    "                '925','950','975',\n",
    "                '1000'\n",
    "            ],\n",
    "            'year': year,\n",
    "            'month': month,\n",
    "            'day': day,\n",
    "            'area': \"37.00/-94.00/24.00/-75.00\",\n",
    "            'time':[\n",
    "                '00:00','01:00','02:00',\n",
    "                '03:00','04:00','05:00',\n",
    "                '06:00','07:00','08:00',\n",
    "                '09:00','10:00','11:00',\n",
    "                '12:00','13:00','14:00',\n",
    "                '15:00','16:00','17:00',\n",
    "                '18:00','19:00','20:00',\n",
    "                '21:00','22:00','23:00'\n",
    "            ]\n",
    "        }\n",
    "    \n",
    "    return request\n"
   ]
  },
  {
   "cell_type": "code",
   "execution_count": null,
   "metadata": {},
   "outputs": [],
   "source": [
    "myr = make_a_request('2019', '01', '01')"
   ]
  },
  {
   "cell_type": "code",
   "execution_count": null,
   "metadata": {},
   "outputs": [],
   "source": [
    "c.retrieve(\"reanalysis-era5-pressure-levels\", myr, \"/data/era5/output.nc\")"
   ]
  },
  {
   "cell_type": "markdown",
   "metadata": {},
   "source": [
    "Spatial extent: the keyword area allows to download a very specific subset. The definition is N/W/S/E in degrees longitude and latitude (see API manual). Negative values correspond to S and W. In the example above a domain over Europe."
   ]
  },
  {
   "cell_type": "code",
   "execution_count": null,
   "metadata": {},
   "outputs": [],
   "source": [
    "ds = xr.open_dataset('/data/era5/output.nc')"
   ]
  },
  {
   "cell_type": "code",
   "execution_count": null,
   "metadata": {},
   "outputs": [],
   "source": [
    "ds"
   ]
  },
  {
   "cell_type": "code",
   "execution_count": null,
   "metadata": {},
   "outputs": [],
   "source": [
    "ds.t[0,0,:,:].plot()"
   ]
  },
  {
   "cell_type": "code",
   "execution_count": null,
   "metadata": {},
   "outputs": [],
   "source": [
    "fme = plt.figure(figsize=[15,8])\n",
    "ax = plt.axes(projection=ccrs.PlateCarree(central_longitude=0.0))\n",
    "ds.t.sel(time=0, level=1000, method='nearest').plot.pcolormesh(ax=ax, transform=ccrs.PlateCarree());\n",
    "ax.coastlines()\n",
    "gl = ax.gridlines(crs=ccrs.PlateCarree(), draw_labels=True,\n",
    "                  linewidth=2, color='gray', alpha=0.5, linestyle='--')\n"
   ]
  },
  {
   "cell_type": "code",
   "execution_count": null,
   "metadata": {},
   "outputs": [],
   "source": [
    "fme = plt.figure(figsize=[15,8])\n",
    "ax = plt.axes(projection=ccrs.PlateCarree(central_longitude=0.0))\n",
    "ds.clwc.sel(time=0, level=800, method='nearest').plot.pcolormesh(ax=ax, transform=ccrs.PlateCarree());\n",
    "ax.coastlines()\n",
    "gl = ax.gridlines(crs=ccrs.PlateCarree(), draw_labels=True,\n",
    "                  linewidth=2, color='gray', alpha=0.5, linestyle='--')\n"
   ]
  },
  {
   "cell_type": "code",
   "execution_count": null,
   "metadata": {},
   "outputs": [],
   "source": [
    "def get_month(year, month, odir):\n",
    "    c = cdsapi.Client()\n",
    "    conn = nexradaws.NexradAwsInterface()\n",
    "    days = conn.get_avail_days(year, month)\n",
    "    fls = []\n",
    "    for day in days:\n",
    "        print('doing ', day)\n",
    "        # stage to temp dir\n",
    "        fname = 'era5_seusa' + year + month + day + '.nc'\n",
    "        outpath = os.path.join(odir, 'era5', year, month)\n",
    "        try:\n",
    "            os.makedirs(outpath)\n",
    "        except FileExistsError:\n",
    "            pass  # directory exists\n",
    "        \n",
    "        myreq = make_a_request(year, month, day)\n",
    "        \n",
    "        c.retrieve(\"reanalysis-era5-pressure-levels\", \n",
    "                   myreq, os.path.join(outpath, fname))\n",
    "        fls.append(fname)\n",
    "\n",
    "    return fls\n"
   ]
  },
  {
   "cell_type": "code",
   "execution_count": null,
   "metadata": {},
   "outputs": [],
   "source": [
    "res = get_month('2019', '01', '/data/era5/')"
   ]
  },
  {
   "cell_type": "code",
   "execution_count": null,
   "metadata": {},
   "outputs": [],
   "source": []
  }
 ],
 "metadata": {
  "kernelspec": {
   "display_name": "Python 3",
   "language": "python",
   "name": "python3"
  },
  "language_info": {
   "codemirror_mode": {
    "name": "ipython",
    "version": 3
   },
   "file_extension": ".py",
   "mimetype": "text/x-python",
   "name": "python",
   "nbconvert_exporter": "python",
   "pygments_lexer": "ipython3",
   "version": "3.6.7"
  }
 },
 "nbformat": 4,
 "nbformat_minor": 2
}
